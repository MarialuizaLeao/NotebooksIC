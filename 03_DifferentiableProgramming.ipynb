{
  "cells": [
    {
      "cell_type": "markdown",
      "metadata": {
        "id": "view-in-github",
        "colab_type": "text"
      },
      "source": [
        "<a href=\"https://colab.research.google.com/github/MarialuizaLeao/NotebooksIC/blob/master/03_DifferentiableProgramming.ipynb\" target=\"_parent\"><img src=\"https://colab.research.google.com/assets/colab-badge.svg\" alt=\"Open In Colab\"/></a>"
      ]
    },
    {
      "cell_type": "markdown",
      "metadata": {
        "id": "Nxcu7Bb-t2yR"
      },
      "source": [
        "### Programação Diferenciável\n",
        "\n",
        "Antes de escrevermos modelos complexos, que precisarão que derivemos para que achemos o mínimo da função de perda, precisamos entender como um computador deriva. Posteriormente, precisaremos entender porque derivar numericamente é mais eficiente que derivar analiticamente. Por fim, vamos fazer uma regressão linear from scratch, entendendo como construímos um modelo em Pytorch."
      ]
    },
    {
      "cell_type": "markdown",
      "metadata": {
        "id": "qx1FTlDQt2yT"
      },
      "source": [
        "#### Revisão tensores e pytorch\n",
        "\n",
        "Um [Tensor](http://en.wikipedia.org/wiki/Tensor) é um objeto algébrico que respeita certa regras de transformação. É a análogo a um vetor/matriz, mas mais geral. O rank de um tensor é a dimensionalidade da matriz necessária para representar ele. Fora de aplicações teóricas e/ou físicas, além do rank 3, o objeto para de fazer muito sentido.\n",
        "\n",
        "Por exemplo:\n",
        "1. um tensor de rank 0 é um escalar\n",
        "2. um tensor de rank 1 é um vetor\n",
        "3. um tensor de rank 2 é uma matriz\n",
        "4. um tensor de rank 3 é uma matriz tridimensional\n",
        "\n",
        "<img src=\"https://miro.medium.com/v2/resize:fit:891/0*jGB1CGQ9HdeUwlgB\" height = 400px/>\n",
        "\n",
        "e a lista continua. \n",
        "\n",
        "O uso de tensores é interessante, pois é fácil operar em cima desses objetos; suas operações e transformações são bem definidas na álgebra linear.\n",
        "\n"
      ]
    },
    {
      "cell_type": "markdown",
      "metadata": {
        "id": "Q7oI-L7-t2yU"
      },
      "source": [
        "#### Numpy vs pytorch"
      ]
    },
    {
      "cell_type": "code",
      "execution_count": null,
      "metadata": {
        "id": "df_19Oyft2yU"
      },
      "outputs": [],
      "source": [
        "import numpy as np \n",
        "import torch"
      ]
    },
    {
      "cell_type": "markdown",
      "metadata": {
        "id": "0mRwaCO0t2yV"
      },
      "source": [
        "1. **Escalar:** Um tensor de zero dimensões."
      ]
    },
    {
      "cell_type": "code",
      "execution_count": null,
      "metadata": {
        "colab": {
          "base_uri": "https://localhost:8080/"
        },
        "id": "rrqMODzwt2yV",
        "outputId": "985fd6a0-8fb5-4506-bb4d-1d8b3d6027f3"
      },
      "outputs": [
        {
          "output_type": "stream",
          "name": "stdout",
          "text": [
            "Escalar: 3.14 \n",
            "Escalar: 3.14, Dimensões: ()\n",
            "Escalar: 3.140000104904175, Dimensões: torch.Size([])\n"
          ]
        }
      ],
      "source": [
        "print(f\"Escalar: {3.14} \")\n",
        "scalar = np.array(3.14)\n",
        "print(f\"Escalar: {scalar}, Dimensões: {scalar.shape}\")\n",
        "scalar = torch.tensor(3.14)\n",
        "print(f\"Escalar: {scalar}, Dimensões: {scalar.shape}\")"
      ]
    },
    {
      "cell_type": "code",
      "execution_count": null,
      "metadata": {
        "id": "3YPJQWW8t2yW",
        "outputId": "ea462e05-1c3a-498c-d63e-ac870b37756f",
        "colab": {
          "base_uri": "https://localhost:8080/"
        }
      },
      "outputs": [
        {
          "output_type": "execute_result",
          "data": {
            "text/plain": [
              "array(3.14)"
            ]
          },
          "metadata": {},
          "execution_count": 27
        }
      ],
      "source": [
        "scalar = np.array(3.14)\n",
        "scalar"
      ]
    },
    {
      "cell_type": "code",
      "execution_count": null,
      "metadata": {
        "id": "mNou1Z--t2yW",
        "outputId": "6c89beaa-713d-496c-aa5a-5d0140991023",
        "colab": {
          "base_uri": "https://localhost:8080/"
        }
      },
      "outputs": [
        {
          "output_type": "execute_result",
          "data": {
            "text/plain": [
              "tensor(3.1400)"
            ]
          },
          "metadata": {},
          "execution_count": 28
        }
      ],
      "source": [
        "scalar = torch.tensor(3.14)\n",
        "scalar"
      ]
    },
    {
      "cell_type": "markdown",
      "metadata": {
        "id": "L5deFeHdt2yW"
      },
      "source": [
        "2. **Vetor:** Um tensor de uma dimensão."
      ]
    },
    {
      "cell_type": "code",
      "execution_count": null,
      "metadata": {
        "id": "_FelvSFft2yW",
        "outputId": "d6cca153-6fe2-42f5-d567-48820e3b2b34",
        "colab": {
          "base_uri": "https://localhost:8080/"
        }
      },
      "outputs": [
        {
          "output_type": "execute_result",
          "data": {
            "text/plain": [
              "[1, 2, 3]"
            ]
          },
          "metadata": {},
          "execution_count": 29
        }
      ],
      "source": [
        "vetor = [1,2,3]\n",
        "vetor"
      ]
    },
    {
      "cell_type": "code",
      "execution_count": null,
      "metadata": {
        "id": "mncgfaKCt2yX",
        "outputId": "d6894a32-d868-48df-e15f-f86109bdb33c",
        "colab": {
          "base_uri": "https://localhost:8080/"
        }
      },
      "outputs": [
        {
          "output_type": "execute_result",
          "data": {
            "text/plain": [
              "array([1, 2, 3])"
            ]
          },
          "metadata": {},
          "execution_count": 30
        }
      ],
      "source": [
        "vetor = np.array([1,2,3])\n",
        "vetor"
      ]
    },
    {
      "cell_type": "code",
      "execution_count": null,
      "metadata": {
        "id": "T8Skn-Tpt2yX",
        "outputId": "046eb68c-1f58-440b-907d-772d5a4e1241",
        "colab": {
          "base_uri": "https://localhost:8080/"
        }
      },
      "outputs": [
        {
          "output_type": "execute_result",
          "data": {
            "text/plain": [
              "tensor([1, 2, 3])"
            ]
          },
          "metadata": {},
          "execution_count": 31
        }
      ],
      "source": [
        "vetor = torch.tensor([1,2,3])\n",
        "vetor"
      ]
    },
    {
      "cell_type": "code",
      "execution_count": null,
      "metadata": {
        "id": "sRyo2iUtt2yX",
        "outputId": "3b531db5-6dd3-48dd-c0e6-098a7ee68fe2",
        "colab": {
          "base_uri": "https://localhost:8080/"
        }
      },
      "outputs": [
        {
          "output_type": "stream",
          "name": "stdout",
          "text": [
            "Vetor nativo: [1, 2, 3] \n",
            "Vetor em numpy: [1 2 3], Dimensões: (3,)\n",
            "Vetor em pytorch: tensor([1, 2, 3]), Dimensões: torch.Size([3])\n"
          ]
        }
      ],
      "source": [
        "v = [1,2,3]\n",
        "print(f\"Vetor nativo: {v} \")\n",
        "vetor = np.array(v)\n",
        "print(f\"Vetor em numpy: {vetor}, Dimensões: {vetor.shape}\")\n",
        "vetor = torch.tensor(v)\n",
        "print(f\"Vetor em pytorch: {vetor}, Dimensões: {vetor.shape}\")"
      ]
    },
    {
      "cell_type": "markdown",
      "metadata": {
        "id": "8Z5BevFht2yX"
      },
      "source": [
        "3. **Matriz:** Um tensor de duas dimensões."
      ]
    },
    {
      "cell_type": "code",
      "execution_count": null,
      "metadata": {
        "colab": {
          "base_uri": "https://localhost:8080/"
        },
        "id": "A2c8kx4Tt2yX",
        "outputId": "7ee53f56-ac50-4e95-e905-b3a9ee3e9a6f"
      },
      "outputs": [
        {
          "output_type": "execute_result",
          "data": {
            "text/plain": [
              "[[3, 2, 1], [1, 2, 3]]"
            ]
          },
          "metadata": {},
          "execution_count": 33
        }
      ],
      "source": [
        "matriz = [[3,2,1],[1,2,3]]\n",
        "matriz"
      ]
    },
    {
      "cell_type": "code",
      "execution_count": null,
      "metadata": {
        "colab": {
          "base_uri": "https://localhost:8080/"
        },
        "id": "Qakcl-NKt2yY",
        "outputId": "6769f0ae-da5f-48d5-f0a4-77b62f15a1f1"
      },
      "outputs": [
        {
          "output_type": "execute_result",
          "data": {
            "text/plain": [
              "array([[3, 2, 1],\n",
              "       [1, 2, 3]])"
            ]
          },
          "metadata": {},
          "execution_count": 34
        }
      ],
      "source": [
        "matriz = np.array([[3,2,1],[1,2,3]])\n",
        "matriz"
      ]
    },
    {
      "cell_type": "code",
      "execution_count": null,
      "metadata": {
        "colab": {
          "base_uri": "https://localhost:8080/"
        },
        "id": "9ToIrN7dt2yY",
        "outputId": "babb4e9e-66ab-436e-d5c2-019fd35c2862"
      },
      "outputs": [
        {
          "output_type": "execute_result",
          "data": {
            "text/plain": [
              "tensor([[3, 2, 1],\n",
              "        [1, 2, 3]])"
            ]
          },
          "metadata": {},
          "execution_count": 35
        }
      ],
      "source": [
        "matriz = torch.tensor([[3,2,1],[1,2,3]])\n",
        "matriz"
      ]
    },
    {
      "cell_type": "code",
      "execution_count": null,
      "metadata": {
        "colab": {
          "base_uri": "https://localhost:8080/"
        },
        "id": "g-DDE3Ust2yY",
        "outputId": "6c8c1eda-5e57-4293-a0dd-ac22bb9c6c2c"
      },
      "outputs": [
        {
          "output_type": "stream",
          "name": "stdout",
          "text": [
            "Matriz nativa: [[3, 2, 1], [1, 2, 3]] \n",
            "Matriz em numpy: [[3 2 1]\n",
            " [1 2 3]], Dimensões: (2, 3)\n",
            "Matriz em pytorch: tensor([[3, 2, 1],\n",
            "        [1, 2, 3]]), Dimensões: torch.Size([2, 3])\n"
          ]
        }
      ],
      "source": [
        "m = [[3,2,1],[1,2,3]]\n",
        "print(f\"Matriz nativa: {m} \")\n",
        "matriz = np.array(m)\n",
        "print(f\"Matriz em numpy: {matriz}, Dimensões: {matriz.shape}\")\n",
        "matriz = torch.tensor(m)\n",
        "print(f\"Matriz em pytorch: {matriz}, Dimensões: {matriz.shape}\")"
      ]
    },
    {
      "cell_type": "markdown",
      "source": [
        "Mais para frente abordaremos isso, mas uma imagem é geralmente um tensor de rank 2 ou 3. \n",
        "Consequentemente, podemos \"ver\" essa matriz."
      ],
      "metadata": {
        "id": "BF4zTYMHv0TB"
      }
    },
    {
      "cell_type": "code",
      "source": [
        "import matplotlib.pyplot as plt\n",
        "\n",
        "fig, ax = plt.subplots()\n",
        "ax.imshow(matriz)"
      ],
      "metadata": {
        "colab": {
          "base_uri": "https://localhost:8080/",
          "height": 414
        },
        "id": "JsRXcP4uvhXt",
        "outputId": "336173c2-4371-4148-853d-04d9a2f8bafc"
      },
      "execution_count": null,
      "outputs": [
        {
          "output_type": "execute_result",
          "data": {
            "text/plain": [
              "<matplotlib.image.AxesImage at 0x7f388515bf40>"
            ]
          },
          "metadata": {},
          "execution_count": 37
        },
        {
          "output_type": "display_data",
          "data": {
            "text/plain": [
              "<Figure size 640x480 with 1 Axes>"
            ],
            "image/png": "[encoded data removed]"
          },
          "metadata": {}
        }
      ]
    },
    {
      "cell_type": "markdown",
      "source": [
        "Na imagem acima cada cor representa um número na nossa matriz.\n",
        "\n",
        "Utilizando um valor aleatório, podemos produzir uma matriz que parecerá uma imagem de um ruído."
      ],
      "metadata": {
        "id": "UmEz478iwKzq"
      }
    },
    {
      "cell_type": "code",
      "source": [
        "img_aleatoria = np.random.normal(size = (100,100))"
      ],
      "metadata": {
        "id": "3CUj8agswJv5"
      },
      "execution_count": null,
      "outputs": []
    },
    {
      "cell_type": "code",
      "source": [
        "fig, ax = plt.subplots()\n",
        "ax.imshow(img_aleatoria)"
      ],
      "metadata": {
        "colab": {
          "base_uri": "https://localhost:8080/",
          "height": 451
        },
        "id": "3VT_bTj-wGr_",
        "outputId": "5cba064e-b57c-49b3-906b-004f4cbe950a"
      },
      "execution_count": null,
      "outputs": [
        {
          "output_type": "execute_result",
          "data": {
            "text/plain": [
              "<matplotlib.image.AxesImage at 0x7f37c13c7cd0>"
            ]
          },
          "metadata": {},
          "execution_count": 39
        },
        {
          "output_type": "display_data",
          "data": {
            "text/plain": [
              "<Figure size 640x480 with 1 Axes>"
            ],
            "image/png": "[encoded data removed]"
          },
          "metadata": {}
        }
      ]
    },
    {
      "cell_type": "markdown",
      "metadata": {
        "id": "nJ16m3iXt2yY"
      },
      "source": [
        "4. **Tensor de rank 3:** Um tensor de três dimensões.\n",
        "\n",
        "É uma espécie de matriz n-dimensional.\n",
        "\n",
        "<img src=\"https://upload.wikimedia.org/wikipedia/commons/thumb/7/71/Epsilontensor.svg/2880px-Epsilontensor.svg.png\" width = 60%/>"
      ]
    },
    {
      "cell_type": "code",
      "source": [
        "tensor= [[[3,2,1],[1,2,3]],[[3,2,1],[1,2,3]]]\n",
        "tensor  "
      ],
      "metadata": {
        "colab": {
          "base_uri": "https://localhost:8080/"
        },
        "id": "6S1_Xgv0vTVV",
        "outputId": "ed3e1636-a50f-4deb-d8df-ada30809d27b"
      },
      "execution_count": null,
      "outputs": [
        {
          "output_type": "execute_result",
          "data": {
            "text/plain": [
              "[[[3, 2, 1], [1, 2, 3]], [[3, 2, 1], [1, 2, 3]]]"
            ]
          },
          "metadata": {},
          "execution_count": 40
        }
      ]
    },
    {
      "cell_type": "code",
      "source": [
        "tensor = np.array([[[3,2,1],[1,2,3]],[[3,2,1],[1,2,3]]])\n",
        "tensor"
      ],
      "metadata": {
        "colab": {
          "base_uri": "https://localhost:8080/"
        },
        "id": "8aFavnTdvZZT",
        "outputId": "3bf776ba-db7a-4037-e20a-e4b0251de4e9"
      },
      "execution_count": null,
      "outputs": [
        {
          "output_type": "execute_result",
          "data": {
            "text/plain": [
              "array([[[3, 2, 1],\n",
              "        [1, 2, 3]],\n",
              "\n",
              "       [[3, 2, 1],\n",
              "        [1, 2, 3]]])"
            ]
          },
          "metadata": {},
          "execution_count": 41
        }
      ]
    },
    {
      "cell_type": "code",
      "source": [
        "tensor = torch.tensor([[[3,2,1],[1,2,3]],[[3,2,1],[1,2,3]]])\n",
        "tensor"
      ],
      "metadata": {
        "colab": {
          "base_uri": "https://localhost:8080/"
        },
        "id": "JDz8ygStFYHn",
        "outputId": "439a7c27-6d53-457f-f960-728580714841"
      },
      "execution_count": null,
      "outputs": [
        {
          "output_type": "execute_result",
          "data": {
            "text/plain": [
              "tensor([[[3, 2, 1],\n",
              "         [1, 2, 3]],\n",
              "\n",
              "        [[3, 2, 1],\n",
              "         [1, 2, 3]]])"
            ]
          },
          "metadata": {},
          "execution_count": 42
        }
      ]
    },
    {
      "cell_type": "code",
      "source": [
        "t = [[[3,2,1],[1,2,3]],[[3,2,1],[1,2,3]]]\n",
        "print(f\"Tensor nativa: {t} \")\n",
        "tensor = np.array(t)\n",
        "print(f\"Tensor em numpy: {tensor}, Dimensões: {tensor.shape}\")\n",
        "tensor = torch.tensor(t)\n",
        "print(f\"Tensor em pytorch: {tensor}, Dimensões: {tensor.shape}\")"
      ],
      "metadata": {
        "colab": {
          "base_uri": "https://localhost:8080/"
        },
        "id": "RU2YPT4LFbnZ",
        "outputId": "e53e5ee6-e7ef-4033-8f03-4d8795765aa4"
      },
      "execution_count": null,
      "outputs": [
        {
          "output_type": "stream",
          "name": "stdout",
          "text": [
            "Tensor nativa: [[[3, 2, 1], [1, 2, 3]], [[3, 2, 1], [1, 2, 3]]] \n",
            "Tensor em numpy: [[[3 2 1]\n",
            "  [1 2 3]]\n",
            "\n",
            " [[3 2 1]\n",
            "  [1 2 3]]], Dimensões: (2, 2, 3)\n",
            "Tensor em pytorch: tensor([[[3, 2, 1],\n",
            "         [1, 2, 3]],\n",
            "\n",
            "        [[3, 2, 1],\n",
            "         [1, 2, 3]]]), Dimensões: torch.Size([2, 2, 3])\n"
          ]
        }
      ]
    },
    {
      "cell_type": "markdown",
      "source": [
        "## Tecnicalidades do pytorch\n",
        "\n",
        "PyTorch é o arcabouço que vamos usar para as nossas tarefas. Assim como o NumPy, o Pytorch é uma biblioteca de processamento vetorial/matricial/tensorial. Operações sobre os tensores do Pytorch possuem sintaxe consideravelmente parecida com operações sobre tensores do NumPy.\n",
        "\n",
        "O mesmo faz uso de tensores bem similares ao NumPy. Porém, com PyTorch conseguimos fazer uso da GPU.\n",
        "\n",
        "Utilizar a GPU foi revolucionário para Deep Learning, pois esses dispositivos são muito eficientes em fazer operações simples de soma e multiplicação. Numpy e a grande maioria das bibliotecas de Python vivem na CPU e são reféns da latência da memória do computador.\n",
        "\n",
        " A arquitetura da GPU permite que carreguemos nossos dados e nosso modelo para esse dispositivo, tornando-o muito mais eficiente para fazer operações repetitivas.\n",
        "\n",
        "\n"
      ],
      "metadata": {
        "id": "qf6KoCguGM7C"
      }
    },
    {
      "cell_type": "code",
      "source": [
        "if torch.cuda.is_available():\n",
        "    device = torch.device('cuda')\n",
        "else:\n",
        "    device = torch.device('cpu')\n",
        "\n",
        "print(device)"
      ],
      "metadata": {
        "colab": {
          "base_uri": "https://localhost:8080/"
        },
        "id": "S_vuA_9IFyBD",
        "outputId": "c0e35b1d-d48a-404d-aca2-7d3f639e99b0"
      },
      "execution_count": null,
      "outputs": [
        {
          "output_type": "stream",
          "name": "stdout",
          "text": [
            "cpu\n"
          ]
        }
      ]
    },
    {
      "cell_type": "code",
      "source": [
        "device = torch.device('cuda' if torch.cuda.is_available() else 'cpu')\n",
        "print(device)"
      ],
      "metadata": {
        "colab": {
          "base_uri": "https://localhost:8080/"
        },
        "id": "52DxGzFmGTgt",
        "outputId": "8efe100c-73fc-423f-82b2-239d840c7e34"
      },
      "execution_count": null,
      "outputs": [
        {
          "output_type": "stream",
          "name": "stdout",
          "text": [
            "cpu\n"
          ]
        }
      ]
    },
    {
      "cell_type": "markdown",
      "source": [
        "No nosso caso, não temos GPU. Por padrão, os tensores são inicializados na CPU. Caso tivessemos uma GPU, precisaríamos \"enviar\" nosso tensor para a GPU e faríamos isto da seguinte forma:"
      ],
      "metadata": {
        "id": "LF4TRVtjMa2I"
      }
    },
    {
      "cell_type": "code",
      "source": [
        "tns = torch.tensor([1,2,3]).to(device)"
      ],
      "metadata": {
        "id": "griOdMwRLSA_"
      },
      "execution_count": null,
      "outputs": []
    },
    {
      "cell_type": "markdown",
      "source": [
        "Pelo mesmo motivo que não conseguimos operar com numpy e um tensor na GPU, não podemos operar entre dois torch.tensors que estão em dispositivos diferentes, isto é, não podemos operar entre um tensor na CPU e outro na GPU.\n",
        "\n",
        "Para convertermos de pytorch para numpy podemos usar o comando .numpy()."
      ],
      "metadata": {
        "id": "9W5rbsMTMqPD"
      }
    },
    {
      "cell_type": "code",
      "source": [
        "tns_npy = tns.numpy()\n",
        "tns_npy"
      ],
      "metadata": {
        "colab": {
          "base_uri": "https://localhost:8080/"
        },
        "id": "lZ9RFeeQMZGG",
        "outputId": "17128bd6-0a8e-45a0-b9d8-7750caee9ac1"
      },
      "execution_count": null,
      "outputs": [
        {
          "output_type": "execute_result",
          "data": {
            "text/plain": [
              "array([1, 2, 3])"
            ]
          },
          "metadata": {},
          "execution_count": 47
        }
      ]
    },
    {
      "cell_type": "markdown",
      "source": [
        "## Programação diferenciável\n",
        "\n",
        "\n",
        "Notação: para manter um padrão, adotaremos um vetor como sendo um vetor coluna.\n",
        "\\begin{align}\n",
        "  \\mathbf{x}= \\begin{bmatrix}\n",
        "    x_{1} \\\\\n",
        "    x_{2} \\\\\n",
        "    \\vdots \\\\\n",
        "    x_{m}\n",
        "\\end{bmatrix}\n",
        "\\end{align}\n",
        "\n",
        "Neste viés $dy/d\\mathbf{x}$ é um vetor coluna:\n",
        "\n",
        "\\begin{align}\n",
        "   \\frac{dy}{d\\mathbf{x}}= \\begin{bmatrix}\n",
        "    dy/dx_{1} \\\\\n",
        "    dy/x_{2} \\\\\n",
        "    \\vdots \\\\\n",
        "    dy/x_{n}\n",
        "\\end{bmatrix}\n",
        "\\end{align}\n",
        "\n",
        "$d\\mathbf{y}/dx$ também é um vetor coluna:\n",
        "\n",
        "\\begin{align}\n",
        "   \\frac{d\\mathbf{y}}{dx}= \\begin{bmatrix}\n",
        "    dy_1/dx \\\\\n",
        "    dy_2/x \\\\\n",
        "    \\vdots \\\\\n",
        "    dy_n/x\n",
        "\\end{bmatrix}\n",
        "\\end{align}\n",
        "\n",
        "Por fim, $d\\mathbf{y}/d\\mathbf{x}$ é uma matrix $n \\times m$:\n",
        "\n",
        "\\begin{align}\n",
        "   \\frac{d\\mathbf{y}}{dx} =\n",
        "   \\begin{bmatrix}\n",
        "    dy_1/dx_1 & dy_1/dx_2 & \\dots & dy_1/dx_n \\\\\n",
        "    dy_2/dx_1 & dy_2/dx_2 & \\dots & dy_2/dx_n \\\\\n",
        "    \\vdots & \\vdots & \\vdots & \\vdots \\\\\n",
        "    dy_m/dx_1 & dy_m/dx_2 & \\dots & dy_m/dx_n \n",
        "\\end{bmatrix}\n",
        "\\end{align}\n",
        "\n",
        "Resumindo:\n",
        "\n",
        "* $dy/dx \\in \\mathbb{R} $\n",
        "* $dy/d\\mathbf{x} \\in \\mathbb{R^m} $\n",
        "* $d\\mathbf{y}/dx \\in \\mathbb{R^m} $\n",
        "* $d\\mathbf{y}/d\\mathbf{x} \\in \\mathbb{R^{m \\times n}} $\n",
        "\n",
        "Vamos implementar algumas derivadas. Vale ressaltar que existem diversas maneiras de se computar derivadas computacionalmente, como diferenciação numérica e diferenciação simbólica. No nosso caso, utilizaremos o método de backpropagation.\n",
        "\n",
        "De maneira simples, o método de backpropagation funciona da seguinte forma:\n",
        "\n",
        "Suponha que queremos derivar a expressão \n",
        "\n",
        "$$ e = (a+b)(b+1)$$\n",
        "\n",
        "Podemos quebrar a expressão em partes mais simples, da seguinte forma:\n",
        "\n",
        "$$ c = (a+b) \\\\ d =(b+1) \\\\ e=d * b$$\n",
        "\n",
        "Assim, podemos construir o grafo computacional abaixo:\n",
        "\n",
        "<img src=\"https://colah.github.io/posts/2015-08-Backprop/img/tree-def.png\" width = 60%/>\n",
        "\n",
        "Vamos computar o grafo para $a = 2$ e $b=1$.\n",
        "\n",
        "<img src=\"https://colah.github.io/posts/2015-08-Backprop/img/tree-eval.png\" width = 60%/>\n",
        "\n",
        "Isso é conhecido como **forward pass**, pois estamos passando os parâmetros para frente e assim computando o valor final da expressão.\n",
        "\n",
        "Agora, se derivarmos cada aresta do grafo, conseguiremos por meio da regra da cadeia obter qualquer derivada desse grafo:\n",
        "\n",
        "<img src=\"https://colah.github.io/posts/2015-08-Backprop/img/tree-eval-derivs.png\" width = 60% />\n",
        "\n",
        "Contanto que consigamos dividir o problema em subproblemas que as derivadas sejam de funções fáceis de derivar, podemos computar a derivada de qualquer expressão.\n",
        "\n",
        "Assim, se quisermos calcular $\\partial e/ \\partial b$, isto é, a mudança em $e$ provacada por $b$, podemos usar da regra da cadeia:\n",
        "\n",
        "\n",
        "$$ \\frac{\\partial e}{ \\partial b} = \\frac{\\partial e}{ \\partial c}\\frac{\\partial c}{ \\partial b}  + \\frac{\\partial e}{ \\partial d}\\frac{\\partial d}{ \\partial b} = 2 + 3 = 5 $$\n",
        "\n",
        "As imagens vem dessa [página](https://colah.github.io/posts/2015-08-Backprop/). Vale dar uma lida, pois lá é abordado o a diferença de forward-mode differentiation and reverse-mode differentiation, que é muito importante.\n",
        "\n",
        "\n",
        "Vamos a prática:"
      ],
      "metadata": {
        "id": "hOIYk6jLNsaF"
      }
    },
    {
      "cell_type": "markdown",
      "source": [
        "* $dy/dx \\in \\mathbb{R} $"
      ],
      "metadata": {
        "id": "-HfIgX74t-JA"
      }
    },
    {
      "cell_type": "code",
      "source": [
        "x = torch.tensor(3, dtype = torch.float, requires_grad = True)\n",
        "y = x**2\n",
        "\n",
        "y.backward()\n",
        "\n",
        "print(x.grad)"
      ],
      "metadata": {
        "id": "hK689-J-NnBB",
        "colab": {
          "base_uri": "https://localhost:8080/"
        },
        "outputId": "371ed270-750a-4bfe-d0d3-12f3e0a34315"
      },
      "execution_count": null,
      "outputs": [
        {
          "output_type": "stream",
          "name": "stdout",
          "text": [
            "tensor(6.)\n"
          ]
        }
      ]
    },
    {
      "cell_type": "markdown",
      "source": [
        "* $dy/d\\mathbf{x} \\in \\mathbb{R^m} $\n",
        "\n",
        "Definimos um vetor x.\n",
        "\n",
        "Criamos uma expressão que vai tomar x como input, i.e, uma função de x.\n",
        "\n",
        "Chamamos o método backward nessa expressão. Precisamos especificar mara o método qual parâmetro derivaremos, isto é, naquele grafo, qual derivada estamos buscando.\n"
      ],
      "metadata": {
        "id": "w6-cmWbQuGbB"
      }
    },
    {
      "cell_type": "code",
      "source": [
        "x = torch.tensor([1,2,3,10], dtype = torch.float, requires_grad = True)\n",
        "\n",
        "fx = 3*x + x**3 + 1\n",
        "\n",
        "fx.backward(x)\n",
        "\n",
        "print(x.grad)"
      ],
      "metadata": {
        "colab": {
          "base_uri": "https://localhost:8080/"
        },
        "id": "RKFwcg13sp9U",
        "outputId": "564ed685-4b97-4046-df92-08e53698e737"
      },
      "execution_count": null,
      "outputs": [
        {
          "output_type": "stream",
          "name": "stdout",
          "text": [
            "tensor([   6.,   30.,   90., 3030.])\n"
          ]
        }
      ]
    },
    {
      "cell_type": "markdown",
      "source": [
        "Nossa expressão pode ser função de diversos parâmetros. Neste caso, precisamos especificar qual parâmetro temos interesse em derivar:\n"
      ],
      "metadata": {
        "id": "oYtE-CldvOJ7"
      }
    },
    {
      "cell_type": "code",
      "source": [
        "x = torch.tensor([1,2,3,10], dtype = torch.float, requires_grad = True)\n",
        "y = torch.tensor([np.pi,0,2,1], dtype = torch.float, requires_grad = True)\n",
        "\n",
        "fxy = 3*x + x**3 + 1 + torch.exp(y)\n",
        "\n",
        "\n",
        "fxy.backward(y)\n",
        "\n",
        "print(y.grad)"
      ],
      "metadata": {
        "colab": {
          "base_uri": "https://localhost:8080/"
        },
        "id": "UApAYIzht1JI",
        "outputId": "cc3839ab-905f-4c7e-ac94-45fdd7128b87"
      },
      "execution_count": null,
      "outputs": [
        {
          "output_type": "stream",
          "name": "stdout",
          "text": [
            "tensor([72.6986,  0.0000, 14.7781,  2.7183])\n"
          ]
        }
      ]
    },
    {
      "cell_type": "markdown",
      "source": [
        "Um exemplo mais concreto:\n",
        "\n",
        "$$ f(x,y) = -\\log\\left(\\frac{e^x}{e^x+e^y}\\right)$$\n",
        "\n"
      ],
      "metadata": {
        "id": "71ThivnLwNnO"
      }
    },
    {
      "cell_type": "code",
      "source": [
        "def log_exp(x, y):\n",
        "    return -torch.log(torch.exp(x)/(torch.exp(x) + torch.exp(y)))"
      ],
      "metadata": {
        "id": "ZZ7lpPJnvqk7"
      },
      "execution_count": null,
      "outputs": []
    },
    {
      "cell_type": "code",
      "source": [
        "x, y = torch.tensor([2.0]), torch.tensor([3.0])\n",
        "z = log_exp(x, y)\n",
        "z"
      ],
      "metadata": {
        "colab": {
          "base_uri": "https://localhost:8080/"
        },
        "id": "xLgAQI1rwXdp",
        "outputId": "532015f6-9984-45b2-9cba-e0c64750fe8a"
      },
      "execution_count": null,
      "outputs": [
        {
          "output_type": "execute_result",
          "data": {
            "text/plain": [
              "tensor([1.3133])"
            ]
          },
          "metadata": {},
          "execution_count": 85
        }
      ]
    },
    {
      "cell_type": "code",
      "source": [
        "def grad(funcao_forward, x, y):\n",
        "    x.requires_grad_(True)\n",
        "    y.requires_grad_(True)\n",
        "    z = funcao_forward(x, y)\n",
        "    z.backward()\n",
        "    return x.grad, y.grad"
      ],
      "metadata": {
        "id": "t5oseB6jwZ-4"
      },
      "execution_count": null,
      "outputs": []
    },
    {
      "cell_type": "code",
      "source": [
        "x, y = torch.tensor([2.0], dtype = torch.double) ,torch.tensor([3.0], dtype = torch.double)\n",
        "dx, dy = grad(log_exp, x, y)\n",
        "dx, dy"
      ],
      "metadata": {
        "colab": {
          "base_uri": "https://localhost:8080/"
        },
        "id": "h5EShcgOw1BA",
        "outputId": "2f6d6240-3ec9-4969-8a53-b156071b234a"
      },
      "execution_count": null,
      "outputs": [
        {
          "output_type": "execute_result",
          "data": {
            "text/plain": [
              "(tensor([-0.7311], dtype=torch.float64), tensor([0.7311], dtype=torch.float64))"
            ]
          },
          "metadata": {},
          "execution_count": 93
        }
      ]
    },
    {
      "cell_type": "markdown",
      "source": [
        "Testando para números maiores:"
      ],
      "metadata": {
        "id": "pn_YpSMuxGvQ"
      }
    },
    {
      "cell_type": "code",
      "source": [
        "x, y = torch.tensor([400.0]).double() ,torch.tensor([800.0]).double()\n",
        "grad(log_exp, x, y)"
      ],
      "metadata": {
        "colab": {
          "base_uri": "https://localhost:8080/"
        },
        "id": "9xHI0AgJw-c2",
        "outputId": "ec7bf2b1-7f76-4df5-c17c-8de766b8f171"
      },
      "execution_count": null,
      "outputs": [
        {
          "output_type": "execute_result",
          "data": {
            "text/plain": [
              "(tensor([nan], dtype=torch.float64), tensor([nan], dtype=torch.float64))"
            ]
          },
          "metadata": {},
          "execution_count": 94
        }
      ]
    },
    {
      "cell_type": "markdown",
      "source": [
        "Como os valores de x e y são grandes, mesmo utilizando double, os gradientes explodiram. Isto é um problema clássico de instabilidade númerica.\n",
        "\n",
        "Por sorte, podemos reescrever nossa função de maneira mais estável, que não precise de usar três exponenciais:\n",
        "\n",
        "\n",
        "$$ f(x,y) = \\log (e^{y-x} + 1) $$\n"
      ],
      "metadata": {
        "id": "bg741UgjxOH3"
      }
    },
    {
      "cell_type": "code",
      "source": [
        "x, y = torch.tensor([400.0], dtype = torch.double), torch.tensor([800.0], dtype = torch.double)\n",
        "def stable_log_exp(x, y):\n",
        "    return torch.log(1 + torch.exp(y-x))\n",
        "\n",
        "dx, dy = grad(stable_log_exp, x, y)\n",
        "dx, dy"
      ],
      "metadata": {
        "colab": {
          "base_uri": "https://localhost:8080/"
        },
        "id": "2TWm-BrJxJ36",
        "outputId": "efa51e04-3640-468c-ae32-9f25db7673b5"
      },
      "execution_count": null,
      "outputs": [
        {
          "output_type": "execute_result",
          "data": {
            "text/plain": [
              "(tensor([-1.], dtype=torch.float64), tensor([1.], dtype=torch.float64))"
            ]
          },
          "metadata": {},
          "execution_count": 95
        }
      ]
    }
  ],
  "metadata": {
    "kernelspec": {
      "display_name": "godeep",
      "language": "python",
      "name": "python3"
    },
    "language_info": {
      "codemirror_mode": {
        "name": "ipython",
        "version": 3
      },
      "file_extension": ".py",
      "mimetype": "text/x-python",
      "name": "python",
      "nbconvert_exporter": "python",
      "pygments_lexer": "ipython3",
      "version": "3.8.16"
    },
    "orig_nbformat": 4,
    "colab": {
      "provenance": [],
      "include_colab_link": true
    }
  },
  "nbformat": 4,
  "nbformat_minor": 0
}